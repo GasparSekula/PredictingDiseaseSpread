{
 "cells": [
  {
   "cell_type": "markdown",
   "metadata": {},
   "source": [
    "## **Predicting Disease Spread: Model Prophet**"
   ]
  },
  {
   "cell_type": "markdown",
   "metadata": {},
   "source": [
    "### **Imports**"
   ]
  },
  {
   "cell_type": "code",
   "execution_count": 3,
   "metadata": {},
   "outputs": [],
   "source": [
    "import sys\n",
    "import os\n",
    "\n",
    "import numpy as np\n",
    "import pandas as pd\n",
    "import matplotlib.pyplot as plt\n",
    "from sklearn.metrics import mean_absolute_error, mean_squared_error\n",
    "\n",
    "sys.path.append(os.path.abspath(\"..\"))\n",
    "from src.data_setup import load_data, split_cities\n",
    "from src.prophet import (\n",
    "    forecast_dengue_cases\n",
    ")\n",
    "\n",
    "from prophet import Prophet"
   ]
  },
  {
   "cell_type": "code",
   "execution_count": 4,
   "metadata": {},
   "outputs": [],
   "source": [
    "features_train, labels_train = load_data(train=True)\n",
    "sj_features_train, iq_features_train = split_cities(features_train)\n",
    "sj_labels_train, iq_labels_train = split_cities(labels_train)\n",
    "features_test, labels_test = load_data(train=False)\n",
    "sj_features_test, iq_features_test = split_cities(features_test)\n",
    "iq_features_train_num = iq_features_train.drop(columns=['week_start_date'])\n",
    "iq_features_test_num = iq_features_test.drop(columns=['week_start_date'])\n",
    "sj_features_train_num = sj_features_train.drop(columns=['week_start_date'])\n",
    "sj_features_test_num = sj_features_test.drop(columns=['week_start_date'])"
   ]
  },
  {
   "cell_type": "markdown",
   "metadata": {},
   "source": [
    "### **Predictions (no tunning)**"
   ]
  },
  {
   "cell_type": "code",
   "execution_count": null,
   "metadata": {},
   "outputs": [],
   "source": [
    "X_train_dict = {'sj': sj_features_train, 'iq': iq_features_train}\n",
    "y_train_dict = {'sj': sj_labels_train, 'iq': iq_labels_train}\n",
    "X_test_dict = {'sj': sj_features_test, 'iq': iq_features_test}\n",
    "\n",
    "city_predictions = forecast_dengue_cases(X_train_dict, y_train_dict, X_test_dict)\n",
    "all_predictions = []\n",
    "for city, preds in city_predictions.items():\n",
    "    city_test = X_test_dict[city]\n",
    "    \n",
    "    city_results = pd.DataFrame({\n",
    "        'city': city,\n",
    "        'year': city_test.index.get_level_values('year'),\n",
    "        'weekofyear': city_test.index.get_level_values('weekofyear'),\n",
    "        'total_cases': preds\n",
    "    })\n",
    "    \n",
    "    all_predictions.append(city_results)\n",
    "\n",
    "final_predictions = pd.concat(all_predictions)\n",
    "\n",
    "final_predictions['total_cases'] = np.round(final_predictions['total_cases']).clip(0).astype(int)\n",
    "\n",
    "print(\"Final predictions shape:\", final_predictions.shape)\n",
    "print(final_predictions.head())\n",
    "\n"
   ]
  },
  {
   "cell_type": "markdown",
   "metadata": {},
   "source": [
    "Outputs:\n",
    "\n",
    "\n",
    "SJ  \n",
    "Best parameters found: {'changepoint_prior_scale': 0.01, 'daily_seasonality': False, 'holidays_prior_scale': 0.01, 'seasonality_mode': 'multiplicative', 'seasonality_prior_scale': 0.01, 'weekly_seasonality': True, 'yearly_seasonality': True}\n",
    "Best validation MAE: 27.16\n",
    "\n",
    "\n",
    "IQ  \n",
    "Best parameters found: {'changepoint_prior_scale': 0.05, 'daily_seasonality': False, 'holidays_prior_scale': 1.0, 'seasonality_mode': 'multiplicative', 'seasonality_prior_scale': 0.01, 'weekly_seasonality': True, 'yearly_seasonality': True}\n",
    "Best validation MAE: 6.41\n"
   ]
  },
  {
   "cell_type": "markdown",
   "metadata": {},
   "source": []
  },
  {
   "cell_type": "code",
   "execution_count": 18,
   "metadata": {},
   "outputs": [],
   "source": [
    "final_predictions.to_csv('../data/predictions/prophet_htun.csv', index=False)"
   ]
  },
  {
   "cell_type": "code",
   "execution_count": null,
   "metadata": {},
   "outputs": [],
   "source": []
  }
 ],
 "metadata": {
  "kernelspec": {
   "display_name": "automl",
   "language": "python",
   "name": "python3"
  },
  "language_info": {
   "codemirror_mode": {
    "name": "ipython",
    "version": 3
   },
   "file_extension": ".py",
   "mimetype": "text/x-python",
   "name": "python",
   "nbconvert_exporter": "python",
   "pygments_lexer": "ipython3",
   "version": "3.10.16"
  }
 },
 "nbformat": 4,
 "nbformat_minor": 2
}

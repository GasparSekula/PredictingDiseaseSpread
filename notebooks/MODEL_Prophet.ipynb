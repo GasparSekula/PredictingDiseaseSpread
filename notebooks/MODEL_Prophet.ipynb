{
 "cells": [
  {
   "cell_type": "markdown",
   "metadata": {},
   "source": [
    "## **Predicting Disease Spread: Model Prophet**"
   ]
  },
  {
   "cell_type": "markdown",
   "metadata": {},
   "source": [
    "### **Imports**"
   ]
  },
  {
   "cell_type": "code",
   "execution_count": 1,
   "metadata": {},
   "outputs": [
    {
     "name": "stderr",
     "output_type": "stream",
     "text": [
      "/Users/gasparsekula/anaconda3/envs/automl/lib/python3.10/site-packages/tqdm/auto.py:21: TqdmWarning: IProgress not found. Please update jupyter and ipywidgets. See https://ipywidgets.readthedocs.io/en/stable/user_install.html\n",
      "  from .autonotebook import tqdm as notebook_tqdm\n",
      "Importing plotly failed. Interactive plots will not work.\n"
     ]
    }
   ],
   "source": [
    "import sys\n",
    "import os\n",
    "\n",
    "import numpy as np\n",
    "import pandas as pd\n",
    "import matplotlib.pyplot as plt\n",
    "from sklearn.metrics import mean_absolute_error, mean_squared_error\n",
    "\n",
    "sys.path.append(os.path.abspath(\"..\"))\n",
    "from src.data_setup import load_data, split_cities\n",
    "from src.prophet import (\n",
    "    forecast_dengue_cases\n",
    ")\n"
   ]
  },
  {
   "cell_type": "code",
   "execution_count": 10,
   "metadata": {},
   "outputs": [],
   "source": [
    "features_train, labels_train = load_data(train=True)\n",
    "sj_features_train, iq_features_train = split_cities(features_train)\n",
    "sj_labels_train, iq_labels_train = split_cities(labels_train)\n",
    "features_test, labels_test = load_data(train=False)\n",
    "sj_features_test, iq_features_test = split_cities(features_test)\n",
    "iq_features_train_num = iq_features_train.drop(columns=['week_start_date'])\n",
    "iq_features_test_num = iq_features_test.drop(columns=['week_start_date'])\n",
    "sj_features_train_num = sj_features_train.drop(columns=['week_start_date'])\n",
    "sj_features_test_num = sj_features_test.drop(columns=['week_start_date'])"
   ]
  },
  {
   "cell_type": "markdown",
   "metadata": {},
   "source": [
    "### **Predictions (no tunning)**"
   ]
  },
  {
   "cell_type": "code",
   "execution_count": null,
   "metadata": {},
   "outputs": [
    {
     "name": "stdout",
     "output_type": "stream",
     "text": [
      "Final predictions shape: (416, 4)\n",
      "  city  year  weekofyear  total_cases\n",
      "0   sj  2008          18           26\n",
      "1   sj  2008          19           11\n",
      "2   sj  2008          20           29\n",
      "3   sj  2008          21           51\n",
      "4   sj  2008          22           39\n"
     ]
    }
   ],
   "source": [
    "X_train_dict = {'sj': sj_features_train, 'iq': iq_features_train}\n",
    "y_train_dict = {'sj': sj_labels_train, 'iq': iq_labels_train}\n",
    "X_test_dict = {'sj': sj_features_test, 'iq': iq_features_test}\n",
    "\n",
    "city_predictions = forecast_dengue_cases(X_train_dict, y_train_dict, X_test_dict)\n",
    "all_predictions = []\n",
    "for city, preds in city_predictions.items():\n",
    "    city_test = X_test_dict[city]\n",
    "    \n",
    "    city_results = pd.DataFrame({\n",
    "        'city': city,\n",
    "        'year': city_test.index.get_level_values('year'),\n",
    "        'weekofyear': city_test.index.get_level_values('weekofyear'),\n",
    "        'total_cases': preds\n",
    "    })\n",
    "    \n",
    "    all_predictions.append(city_results)\n",
    "\n",
    "final_predictions = pd.concat(all_predictions)\n",
    "\n",
    "final_predictions['total_cases'] = np.round(final_predictions['total_cases']).clip(0).astype(int)\n",
    "\n",
    "print(\"Final predictions shape:\", final_predictions.shape)\n",
    "print(final_predictions.head())\n"
   ]
  },
  {
   "cell_type": "code",
   "execution_count": 22,
   "metadata": {},
   "outputs": [],
   "source": [
    "final_predictions.to_csv('../data/predictions/prophet.csv', index=False)"
   ]
  }
 ],
 "metadata": {
  "kernelspec": {
   "display_name": "automl",
   "language": "python",
   "name": "python3"
  },
  "language_info": {
   "codemirror_mode": {
    "name": "ipython",
    "version": 3
   },
   "file_extension": ".py",
   "mimetype": "text/x-python",
   "name": "python",
   "nbconvert_exporter": "python",
   "pygments_lexer": "ipython3",
   "version": "3.10.16"
  }
 },
 "nbformat": 4,
 "nbformat_minor": 2
}
